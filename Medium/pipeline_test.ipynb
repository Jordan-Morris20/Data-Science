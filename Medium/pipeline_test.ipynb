{
 "cells": [
  {
   "cell_type": "code",
   "execution_count": 31,
   "metadata": {},
   "outputs": [],
   "source": [
    "import pandas as pd\n",
    "import numpy as np\n",
    "import tensorflow as tf\n"
   ]
  },
  {
   "cell_type": "markdown",
   "metadata": {},
   "source": [
    "Load data"
   ]
  },
  {
   "cell_type": "code",
   "execution_count": 32,
   "metadata": {},
   "outputs": [],
   "source": [
    "cf15= pd.read_csv('/home/jordan/Documents/DataSets/DimensionData/cf15.csv', low_memory=False, header=None)\n",
    "gf25= pd.read_csv('/home/jordan/Documents/DataSets/DimensionData/gf25.csv', low_memory=False, header=None)\n",
    "gm01= pd.read_csv('/home/jordan/Documents/DataSets/DimensionData/gm01.csv', low_memory=False, header=None)\n",
    "nc46= pd.read_csv('/home/jordan/Documents/DataSets/DimensionData/nc46.csv', low_memory=False, header=None)\n",
    "nc74= pd.read_csv('/home/jordan/Documents/DataSets/DimensionData/nc74.csv', low_memory=False, header=None)\n",
    "nf11= pd.read_csv('/home/jordan/Documents/DataSets/DimensionData/nf11.csv', low_memory=False, header=None)\n",
    "wc16= pd.read_csv('/home/jordan/Documents/DataSets/DimensionData/wc16.csv', low_memory=False, header=None)\n",
    "wc41= pd.read_csv('/home/jordan/Documents/DataSets/DimensionData/wc41.csv', low_memory=False, header=None)\n",
    "wo36= pd.read_csv('/home/jordan/Documents/DataSets/DimensionData/wo36.csv', low_memory=False, header=None)"
   ]
  },
  {
   "cell_type": "code",
   "execution_count": 33,
   "metadata": {},
   "outputs": [],
   "source": [
    "val_1 = pd.read_csv('/home/jordan/Documents/DataSets/DimensionData/go22.csv', low_memory=False, header=None)\n",
    "val_2 = pd.read_csv('/home/jordan/Documents/DataSets/DimensionData/kf15.csv', low_memory=False, header=None)\n",
    "val_3 = pd.read_csv('/home/jordan/Documents/DataSets/DimensionData/nf28.csv', low_memory=False, header=None)"
   ]
  },
  {
   "cell_type": "code",
   "execution_count": 34,
   "metadata": {},
   "outputs": [],
   "source": [
    "frames =[cf15, nc46, nc74, nf11, wc16, wc41, wo36]\n",
    "frames_2=[val_1, val_2]\n",
    "data = pd.concat(frames)\n",
    "val = pd.concat(frames_2)"
   ]
  },
  {
   "cell_type": "markdown",
   "metadata": {},
   "source": [
    "Define data cleaning functions"
   ]
  },
  {
   "cell_type": "code",
   "execution_count": 68,
   "metadata": {},
   "outputs": [],
   "source": [
    "def snip(data):\n",
    "    #Snip unwanted characters \n",
    "\n",
    "    time= data.iloc[:,0]\n",
    "    time=time.map(lambda x: str(x[6:]))\n",
    "    time=time.map(lambda x: float(x))\n",
    "\n",
    "    interface= data.iloc[:,-14]\n",
    "    interface=interface.map(lambda x: str(x[15:]))\n",
    "    interface=interface.map(lambda x: str(x[:-1]))\n",
    "    interface=interface.map({'NI1A-WWW1':1, 'NI1B-WWW1':2, 'NI1B-WWW2':3, 'NI1A-WWW2':4 ,'NI1A-WWW3':5, 'NI1B-WWW3':6, 'NI1A-MPLS':7})\n",
    "\n",
    "    jitter=data.iloc[:, -13]\n",
    "    jitter=jitter.map(lambda x: str(x))\n",
    "    jitter=jitter.map(lambda x: str(x[8:]))\n",
    "    jitter=jitter.map(lambda x: str(x[:-1]))\n",
    "    jitter=jitter.map(lambda x: float(x))\n",
    "\n",
    "    latency= data.iloc[:,-12]\n",
    "    latency=latency.map(lambda x: str(x))\n",
    "    latency=latency.map(lambda x: str(x[9:]))\n",
    "    latency=latency.map(lambda x: str(x[:-1]))\n",
    "    latency=latency.map(lambda x: float(x))\n",
    "\n",
    "    inband= data.iloc[:,-15]\n",
    "    inband=inband.map(lambda x: str(x))\n",
    "    inband=inband.map(lambda x: str(x[22:]))\n",
    "    inband=inband.map(lambda x: str(x[:-5]))\n",
    "    inband=inband.map(lambda x: float(x))\n",
    "\n",
    "    outband= data.iloc[:, -5]\n",
    "    outband=outband.map(lambda x: str(x))\n",
    "    outband=outband.map(lambda x: x.split('\"')[1])\n",
    "    outband=outband.map(lambda x: str(x[:-4]))\n",
    "    outband=outband.map(lambda x: float(x))\n",
    "\n",
    "    packet=data.iloc[:,-4]\n",
    "    packet=packet.map(lambda x: str(x))\n",
    "    packet=packet.map(lambda x: str(x[12:]))\n",
    "    packet=packet.map(lambda x: str(x[:-2]))\n",
    "    packet=packet.map(lambda x: float(x))\n",
    "\n",
    "    status=data.iloc[:,-2]\n",
    "    status=status.map(lambda x: str(x))\n",
    "    status=status.map(lambda x: str(x[8:]))\n",
    "    status=status.map(lambda x: str(x[:-1]))\n",
    "\n",
    "    status[:] = np.where(status==\"up\", 1,0)\n",
    "    status=status.map(lambda x: float(x))\n",
    "    status=status.rolling(20).mean()\n",
    "    status=status.map(np.floor)\n",
    "\n",
    "    train_init=pd.concat([time, interface, inband, outband, latency, packet, jitter, status], axis=1)\n",
    "    train_init.columns=['Time', 'Interface', 'Inband', 'Outband', 'Latency', 'Packet', 'Jitter', 'Status']\n",
    "\n",
    "    #Dedupp based on interfaces\n",
    "    train=train_init[train_init.Interface != 'NI2A-WWW1']\n",
    "    train=train[train.Interface != 'NI2B-WWW1']\n",
    "    train=train[train.Interface != 'NI2A-WWW2']\n",
    "    train=train[train.Interface != 'NI2B-WWW2']\n",
    "    train=train[train.Interface != 'NI2A-WWW3']    \n",
    "    train=train[train.Interface != 'NI2B-WWW3']\n",
    "    train=train[train.Interface != 'NI2A-MPLS']\n",
    "    train_label=train.filter(['Status'])\n",
    "    train=train.drop(['Status'], axis=1)\n",
    "    #train=train.sort_values(by=['Time'])\n",
    "    train=train.reset_index()\n",
    "\n",
    "    return train, train_label"
   ]
  },
  {
   "cell_type": "code",
   "execution_count": 69,
   "metadata": {},
   "outputs": [],
   "source": [
    "train, labels= snip(data)"
   ]
  },
  {
   "cell_type": "code",
   "execution_count": 73,
   "metadata": {},
   "outputs": [
    {
     "data": {
      "text/plain": [
       "1.0    100361\n",
       "2.0     79834\n",
       "3.0     51918\n",
       "5.0     47953\n",
       "4.0     43224\n",
       "6.0     17388\n",
       "7.0     10078\n",
       "Name: Interface, dtype: int64"
      ]
     },
     "execution_count": 73,
     "metadata": {},
     "output_type": "execute_result"
    }
   ],
   "source": [
    "train.iloc[:,2].value_counts()"
   ]
  },
  {
   "cell_type": "code",
   "execution_count": 25,
   "metadata": {},
   "outputs": [],
   "source": [
    "def preproccess(data):\n",
    "    train,train_label=snip(data)\n",
    "    train=train.iloc[:-700, :]\n",
    "    train=train.to_numpy()\n",
    "    train_label=train_label.iloc[700:]\n",
    "    return train, train_label\n"
   ]
  },
  {
   "cell_type": "code",
   "execution_count": 26,
   "metadata": {},
   "outputs": [],
   "source": [
    "train, train_label = preproccess(data)\n",
    "mean=train.mean(axis=0)\n",
    "train-=mean\n",
    "std = train.std(axis=0)\n",
    "train/=std\n",
    "test, test_label = preproccess(val)\n",
    "test-=mean\n",
    "test/=std"
   ]
  },
  {
   "cell_type": "markdown",
   "metadata": {},
   "source": [
    "train_dataset = tf.data.Dataset.from_tensor_slices((train, train_label))\n",
    "test_dataset = tf.data.Dataset.from_tensor_slices((test, test_label))"
   ]
  },
  {
   "cell_type": "markdown",
   "metadata": {},
   "source": [
    "Build and train model"
   ]
  },
  {
   "cell_type": "code",
   "execution_count": 29,
   "metadata": {},
   "outputs": [],
   "source": [
    "def get_model():\n",
    "    model = tf.keras.Sequential([\n",
    "            tf.keras.layers.Dense(10, activation='relu'),\n",
    "            tf.keras.layers.Dropout(0.3),\n",
    "            tf.keras.layers.Dense(10, activation='relu'),\n",
    "            tf.keras.layers.Dropout(0.3),\n",
    "            tf.keras.layers.Dense(10, activation='relu'),\n",
    "            tf.keras.layers.Dropout(0.3),\n",
    "            tf.keras.layers.Dense(1, activation='sigmoid')])\n",
    "    model.compile(optimizer='RMSprop',\n",
    "            loss='BinaryCrossentropy',\n",
    "            metrics=['accuracy'])    \n",
    "    return model"
   ]
  },
  {
   "cell_type": "code",
   "execution_count": 30,
   "metadata": {},
   "outputs": [
    {
     "name": "stdout",
     "output_type": "stream",
     "text": [
      "Epoch 1/10\n",
      "5464/5464 [==============================] - 9s 2ms/step - loss: nan - accuracy: 0.4216\n",
      "Epoch 2/10\n",
      "2493/5464 [============>.................] - ETA: 6s - loss: nan - accuracy: 0.4207"
     ]
    },
    {
     "ename": "KeyboardInterrupt",
     "evalue": "",
     "output_type": "error",
     "traceback": [
      "\u001b[0;31m---------------------------------------------------------------------------\u001b[0m",
      "\u001b[0;31mKeyboardInterrupt\u001b[0m                         Traceback (most recent call last)",
      "\u001b[1;32m/home/jordan/Documents/Data-Science/Medium/pipeline_test.ipynb Cell 13'\u001b[0m in \u001b[0;36m<module>\u001b[0;34m\u001b[0m\n\u001b[1;32m      <a href='vscode-notebook-cell:/home/jordan/Documents/Data-Science/Medium/pipeline_test.ipynb#ch0000012?line=0'>1</a>\u001b[0m model \u001b[39m=\u001b[39m get_model()       \n\u001b[0;32m----> <a href='vscode-notebook-cell:/home/jordan/Documents/Data-Science/Medium/pipeline_test.ipynb#ch0000012?line=1'>2</a>\u001b[0m history \u001b[39m=\u001b[39m model\u001b[39m.\u001b[39;49mfit(train, train_label, epochs\u001b[39m=\u001b[39;49m\u001b[39m10\u001b[39;49m, batch_size\u001b[39m=\u001b[39;49m\u001b[39m128\u001b[39;49m)\n",
      "File \u001b[0;32m~/.local/lib/python3.9/site-packages/keras/utils/traceback_utils.py:64\u001b[0m, in \u001b[0;36mfilter_traceback.<locals>.error_handler\u001b[0;34m(*args, **kwargs)\u001b[0m\n\u001b[1;32m     <a href='file:///~/.local/lib/python3.9/site-packages/keras/utils/traceback_utils.py?line=61'>62</a>\u001b[0m filtered_tb \u001b[39m=\u001b[39m \u001b[39mNone\u001b[39;00m\n\u001b[1;32m     <a href='file:///~/.local/lib/python3.9/site-packages/keras/utils/traceback_utils.py?line=62'>63</a>\u001b[0m \u001b[39mtry\u001b[39;00m:\n\u001b[0;32m---> <a href='file:///~/.local/lib/python3.9/site-packages/keras/utils/traceback_utils.py?line=63'>64</a>\u001b[0m   \u001b[39mreturn\u001b[39;00m fn(\u001b[39m*\u001b[39;49margs, \u001b[39m*\u001b[39;49m\u001b[39m*\u001b[39;49mkwargs)\n\u001b[1;32m     <a href='file:///~/.local/lib/python3.9/site-packages/keras/utils/traceback_utils.py?line=64'>65</a>\u001b[0m \u001b[39mexcept\u001b[39;00m \u001b[39mException\u001b[39;00m \u001b[39mas\u001b[39;00m e:  \u001b[39m# pylint: disable=broad-except\u001b[39;00m\n\u001b[1;32m     <a href='file:///~/.local/lib/python3.9/site-packages/keras/utils/traceback_utils.py?line=65'>66</a>\u001b[0m   filtered_tb \u001b[39m=\u001b[39m _process_traceback_frames(e\u001b[39m.\u001b[39m__traceback__)\n",
      "File \u001b[0;32m~/.local/lib/python3.9/site-packages/keras/engine/training.py:1389\u001b[0m, in \u001b[0;36mModel.fit\u001b[0;34m(self, x, y, batch_size, epochs, verbose, callbacks, validation_split, validation_data, shuffle, class_weight, sample_weight, initial_epoch, steps_per_epoch, validation_steps, validation_batch_size, validation_freq, max_queue_size, workers, use_multiprocessing)\u001b[0m\n\u001b[1;32m   <a href='file:///~/.local/lib/python3.9/site-packages/keras/engine/training.py?line=1386'>1387</a>\u001b[0m logs \u001b[39m=\u001b[39m tmp_logs  \u001b[39m# No error, now safe to assign to logs.\u001b[39;00m\n\u001b[1;32m   <a href='file:///~/.local/lib/python3.9/site-packages/keras/engine/training.py?line=1387'>1388</a>\u001b[0m end_step \u001b[39m=\u001b[39m step \u001b[39m+\u001b[39m data_handler\u001b[39m.\u001b[39mstep_increment\n\u001b[0;32m-> <a href='file:///~/.local/lib/python3.9/site-packages/keras/engine/training.py?line=1388'>1389</a>\u001b[0m callbacks\u001b[39m.\u001b[39;49mon_train_batch_end(end_step, logs)\n\u001b[1;32m   <a href='file:///~/.local/lib/python3.9/site-packages/keras/engine/training.py?line=1389'>1390</a>\u001b[0m \u001b[39mif\u001b[39;00m \u001b[39mself\u001b[39m\u001b[39m.\u001b[39mstop_training:\n\u001b[1;32m   <a href='file:///~/.local/lib/python3.9/site-packages/keras/engine/training.py?line=1390'>1391</a>\u001b[0m   \u001b[39mbreak\u001b[39;00m\n",
      "File \u001b[0;32m~/.local/lib/python3.9/site-packages/keras/callbacks.py:438\u001b[0m, in \u001b[0;36mCallbackList.on_train_batch_end\u001b[0;34m(self, batch, logs)\u001b[0m\n\u001b[1;32m    <a href='file:///~/.local/lib/python3.9/site-packages/keras/callbacks.py?line=430'>431</a>\u001b[0m \u001b[39m\"\"\"Calls the `on_train_batch_end` methods of its callbacks.\u001b[39;00m\n\u001b[1;32m    <a href='file:///~/.local/lib/python3.9/site-packages/keras/callbacks.py?line=431'>432</a>\u001b[0m \n\u001b[1;32m    <a href='file:///~/.local/lib/python3.9/site-packages/keras/callbacks.py?line=432'>433</a>\u001b[0m \u001b[39mArgs:\u001b[39;00m\n\u001b[1;32m    <a href='file:///~/.local/lib/python3.9/site-packages/keras/callbacks.py?line=433'>434</a>\u001b[0m \u001b[39m    batch: Integer, index of batch within the current epoch.\u001b[39;00m\n\u001b[1;32m    <a href='file:///~/.local/lib/python3.9/site-packages/keras/callbacks.py?line=434'>435</a>\u001b[0m \u001b[39m    logs: Dict. Aggregated metric results up until this batch.\u001b[39;00m\n\u001b[1;32m    <a href='file:///~/.local/lib/python3.9/site-packages/keras/callbacks.py?line=435'>436</a>\u001b[0m \u001b[39m\"\"\"\u001b[39;00m\n\u001b[1;32m    <a href='file:///~/.local/lib/python3.9/site-packages/keras/callbacks.py?line=436'>437</a>\u001b[0m \u001b[39mif\u001b[39;00m \u001b[39mself\u001b[39m\u001b[39m.\u001b[39m_should_call_train_batch_hooks:\n\u001b[0;32m--> <a href='file:///~/.local/lib/python3.9/site-packages/keras/callbacks.py?line=437'>438</a>\u001b[0m   \u001b[39mself\u001b[39;49m\u001b[39m.\u001b[39;49m_call_batch_hook(ModeKeys\u001b[39m.\u001b[39;49mTRAIN, \u001b[39m'\u001b[39;49m\u001b[39mend\u001b[39;49m\u001b[39m'\u001b[39;49m, batch, logs\u001b[39m=\u001b[39;49mlogs)\n",
      "File \u001b[0;32m~/.local/lib/python3.9/site-packages/keras/callbacks.py:297\u001b[0m, in \u001b[0;36mCallbackList._call_batch_hook\u001b[0;34m(self, mode, hook, batch, logs)\u001b[0m\n\u001b[1;32m    <a href='file:///~/.local/lib/python3.9/site-packages/keras/callbacks.py?line=294'>295</a>\u001b[0m   \u001b[39mself\u001b[39m\u001b[39m.\u001b[39m_call_batch_begin_hook(mode, batch, logs)\n\u001b[1;32m    <a href='file:///~/.local/lib/python3.9/site-packages/keras/callbacks.py?line=295'>296</a>\u001b[0m \u001b[39melif\u001b[39;00m hook \u001b[39m==\u001b[39m \u001b[39m'\u001b[39m\u001b[39mend\u001b[39m\u001b[39m'\u001b[39m:\n\u001b[0;32m--> <a href='file:///~/.local/lib/python3.9/site-packages/keras/callbacks.py?line=296'>297</a>\u001b[0m   \u001b[39mself\u001b[39;49m\u001b[39m.\u001b[39;49m_call_batch_end_hook(mode, batch, logs)\n\u001b[1;32m    <a href='file:///~/.local/lib/python3.9/site-packages/keras/callbacks.py?line=297'>298</a>\u001b[0m \u001b[39melse\u001b[39;00m:\n\u001b[1;32m    <a href='file:///~/.local/lib/python3.9/site-packages/keras/callbacks.py?line=298'>299</a>\u001b[0m   \u001b[39mraise\u001b[39;00m \u001b[39mValueError\u001b[39;00m(\n\u001b[1;32m    <a href='file:///~/.local/lib/python3.9/site-packages/keras/callbacks.py?line=299'>300</a>\u001b[0m       \u001b[39mf\u001b[39m\u001b[39m'\u001b[39m\u001b[39mUnrecognized hook: \u001b[39m\u001b[39m{\u001b[39;00mhook\u001b[39m}\u001b[39;00m\u001b[39m. Expected values are [\u001b[39m\u001b[39m\"\u001b[39m\u001b[39mbegin\u001b[39m\u001b[39m\"\u001b[39m\u001b[39m, \u001b[39m\u001b[39m\"\u001b[39m\u001b[39mend\u001b[39m\u001b[39m\"\u001b[39m\u001b[39m]\u001b[39m\u001b[39m'\u001b[39m)\n",
      "File \u001b[0;32m~/.local/lib/python3.9/site-packages/keras/callbacks.py:318\u001b[0m, in \u001b[0;36mCallbackList._call_batch_end_hook\u001b[0;34m(self, mode, batch, logs)\u001b[0m\n\u001b[1;32m    <a href='file:///~/.local/lib/python3.9/site-packages/keras/callbacks.py?line=314'>315</a>\u001b[0m   batch_time \u001b[39m=\u001b[39m time\u001b[39m.\u001b[39mtime() \u001b[39m-\u001b[39m \u001b[39mself\u001b[39m\u001b[39m.\u001b[39m_batch_start_time\n\u001b[1;32m    <a href='file:///~/.local/lib/python3.9/site-packages/keras/callbacks.py?line=315'>316</a>\u001b[0m   \u001b[39mself\u001b[39m\u001b[39m.\u001b[39m_batch_times\u001b[39m.\u001b[39mappend(batch_time)\n\u001b[0;32m--> <a href='file:///~/.local/lib/python3.9/site-packages/keras/callbacks.py?line=317'>318</a>\u001b[0m \u001b[39mself\u001b[39;49m\u001b[39m.\u001b[39;49m_call_batch_hook_helper(hook_name, batch, logs)\n\u001b[1;32m    <a href='file:///~/.local/lib/python3.9/site-packages/keras/callbacks.py?line=319'>320</a>\u001b[0m \u001b[39mif\u001b[39;00m \u001b[39mlen\u001b[39m(\u001b[39mself\u001b[39m\u001b[39m.\u001b[39m_batch_times) \u001b[39m>\u001b[39m\u001b[39m=\u001b[39m \u001b[39mself\u001b[39m\u001b[39m.\u001b[39m_num_batches_for_timing_check:\n\u001b[1;32m    <a href='file:///~/.local/lib/python3.9/site-packages/keras/callbacks.py?line=320'>321</a>\u001b[0m   end_hook_name \u001b[39m=\u001b[39m hook_name\n",
      "File \u001b[0;32m~/.local/lib/python3.9/site-packages/keras/callbacks.py:356\u001b[0m, in \u001b[0;36mCallbackList._call_batch_hook_helper\u001b[0;34m(self, hook_name, batch, logs)\u001b[0m\n\u001b[1;32m    <a href='file:///~/.local/lib/python3.9/site-packages/keras/callbacks.py?line=353'>354</a>\u001b[0m \u001b[39mfor\u001b[39;00m callback \u001b[39min\u001b[39;00m \u001b[39mself\u001b[39m\u001b[39m.\u001b[39mcallbacks:\n\u001b[1;32m    <a href='file:///~/.local/lib/python3.9/site-packages/keras/callbacks.py?line=354'>355</a>\u001b[0m   hook \u001b[39m=\u001b[39m \u001b[39mgetattr\u001b[39m(callback, hook_name)\n\u001b[0;32m--> <a href='file:///~/.local/lib/python3.9/site-packages/keras/callbacks.py?line=355'>356</a>\u001b[0m   hook(batch, logs)\n\u001b[1;32m    <a href='file:///~/.local/lib/python3.9/site-packages/keras/callbacks.py?line=357'>358</a>\u001b[0m \u001b[39mif\u001b[39;00m \u001b[39mself\u001b[39m\u001b[39m.\u001b[39m_check_timing:\n\u001b[1;32m    <a href='file:///~/.local/lib/python3.9/site-packages/keras/callbacks.py?line=358'>359</a>\u001b[0m   \u001b[39mif\u001b[39;00m hook_name \u001b[39mnot\u001b[39;00m \u001b[39min\u001b[39;00m \u001b[39mself\u001b[39m\u001b[39m.\u001b[39m_hook_times:\n",
      "File \u001b[0;32m~/.local/lib/python3.9/site-packages/keras/callbacks.py:1034\u001b[0m, in \u001b[0;36mProgbarLogger.on_train_batch_end\u001b[0;34m(self, batch, logs)\u001b[0m\n\u001b[1;32m   <a href='file:///~/.local/lib/python3.9/site-packages/keras/callbacks.py?line=1032'>1033</a>\u001b[0m \u001b[39mdef\u001b[39;00m \u001b[39mon_train_batch_end\u001b[39m(\u001b[39mself\u001b[39m, batch, logs\u001b[39m=\u001b[39m\u001b[39mNone\u001b[39;00m):\n\u001b[0;32m-> <a href='file:///~/.local/lib/python3.9/site-packages/keras/callbacks.py?line=1033'>1034</a>\u001b[0m   \u001b[39mself\u001b[39;49m\u001b[39m.\u001b[39;49m_batch_update_progbar(batch, logs)\n",
      "File \u001b[0;32m~/.local/lib/python3.9/site-packages/keras/callbacks.py:1107\u001b[0m, in \u001b[0;36mProgbarLogger._batch_update_progbar\u001b[0;34m(self, batch, logs)\u001b[0m\n\u001b[1;32m   <a href='file:///~/.local/lib/python3.9/site-packages/keras/callbacks.py?line=1103'>1104</a>\u001b[0m \u001b[39mif\u001b[39;00m \u001b[39mself\u001b[39m\u001b[39m.\u001b[39mverbose \u001b[39m==\u001b[39m \u001b[39m1\u001b[39m:\n\u001b[1;32m   <a href='file:///~/.local/lib/python3.9/site-packages/keras/callbacks.py?line=1104'>1105</a>\u001b[0m   \u001b[39m# Only block async when verbose = 1.\u001b[39;00m\n\u001b[1;32m   <a href='file:///~/.local/lib/python3.9/site-packages/keras/callbacks.py?line=1105'>1106</a>\u001b[0m   logs \u001b[39m=\u001b[39m tf_utils\u001b[39m.\u001b[39msync_to_numpy_or_python_type(logs)\n\u001b[0;32m-> <a href='file:///~/.local/lib/python3.9/site-packages/keras/callbacks.py?line=1106'>1107</a>\u001b[0m   \u001b[39mself\u001b[39;49m\u001b[39m.\u001b[39;49mprogbar\u001b[39m.\u001b[39;49mupdate(\u001b[39mself\u001b[39;49m\u001b[39m.\u001b[39;49mseen, \u001b[39mlist\u001b[39;49m(logs\u001b[39m.\u001b[39;49mitems()), finalize\u001b[39m=\u001b[39;49m\u001b[39mFalse\u001b[39;49;00m)\n",
      "File \u001b[0;32m~/.local/lib/python3.9/site-packages/keras/utils/generic_utils.py:908\u001b[0m, in \u001b[0;36mProgbar.update\u001b[0;34m(self, current, values, finalize)\u001b[0m\n\u001b[1;32m    <a href='file:///~/.local/lib/python3.9/site-packages/keras/utils/generic_utils.py?line=905'>906</a>\u001b[0m message \u001b[39m=\u001b[39m \u001b[39m'\u001b[39m\u001b[39m'\u001b[39m\n\u001b[1;32m    <a href='file:///~/.local/lib/python3.9/site-packages/keras/utils/generic_utils.py?line=906'>907</a>\u001b[0m now \u001b[39m=\u001b[39m time\u001b[39m.\u001b[39mtime()\n\u001b[0;32m--> <a href='file:///~/.local/lib/python3.9/site-packages/keras/utils/generic_utils.py?line=907'>908</a>\u001b[0m info \u001b[39m=\u001b[39m \u001b[39m'\u001b[39;49m\u001b[39m - \u001b[39;49m\u001b[39m%.0f\u001b[39;49;00m\u001b[39ms\u001b[39;49m\u001b[39m'\u001b[39;49m \u001b[39m%\u001b[39;49m (now \u001b[39m-\u001b[39;49m \u001b[39mself\u001b[39;49m\u001b[39m.\u001b[39;49m_start)\n\u001b[1;32m    <a href='file:///~/.local/lib/python3.9/site-packages/keras/utils/generic_utils.py?line=908'>909</a>\u001b[0m \u001b[39mif\u001b[39;00m current \u001b[39m==\u001b[39m \u001b[39mself\u001b[39m\u001b[39m.\u001b[39mtarget:\n\u001b[1;32m    <a href='file:///~/.local/lib/python3.9/site-packages/keras/utils/generic_utils.py?line=909'>910</a>\u001b[0m   \u001b[39mself\u001b[39m\u001b[39m.\u001b[39m_time_at_epoch_end \u001b[39m=\u001b[39m now\n",
      "\u001b[0;31mKeyboardInterrupt\u001b[0m: "
     ]
    }
   ],
   "source": [
    "model = get_model()       \n",
    "history = model.fit(train, train_label, epochs=10, batch_size=128)"
   ]
  },
  {
   "cell_type": "code",
   "execution_count": 23,
   "metadata": {},
   "outputs": [
    {
     "name": "stdout",
     "output_type": "stream",
     "text": [
      "3292/3292 - 2s - loss: 0.9951 - accuracy: 0.5778 - 2s/epoch - 733us/step\n",
      "\n",
      "Test Accuracy: 0.5777961611747742\n"
     ]
    }
   ],
   "source": [
    "test_loss, test_acc =model.evaluate(test, test_label, verbose=2)\n",
    "print('\\nTest Accuracy:', test_acc)"
   ]
  }
 ],
 "metadata": {
  "interpreter": {
   "hash": "e7370f93d1d0cde622a1f8e1c04877d8463912d04d973331ad4851f04de6915a"
  },
  "kernelspec": {
   "display_name": "Python 3.9.7 64-bit",
   "language": "python",
   "name": "python3"
  },
  "language_info": {
   "codemirror_mode": {
    "name": "ipython",
    "version": 3
   },
   "file_extension": ".py",
   "mimetype": "text/x-python",
   "name": "python",
   "nbconvert_exporter": "python",
   "pygments_lexer": "ipython3",
   "version": "3.9.7"
  },
  "orig_nbformat": 4
 },
 "nbformat": 4,
 "nbformat_minor": 2
}
