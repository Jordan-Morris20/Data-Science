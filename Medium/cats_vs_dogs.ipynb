{
 "cells": [
  {
   "cell_type": "code",
   "execution_count": 1,
   "metadata": {},
   "outputs": [
    {
     "name": "stderr",
     "output_type": "stream",
     "text": [
      "2022-08-04 19:17:54.884940: W tensorflow/stream_executor/platform/default/dso_loader.cc:64] Could not load dynamic library 'libcudart.so.11.0'; dlerror: libcudart.so.11.0: cannot open shared object file: No such file or directory\n",
      "2022-08-04 19:17:54.884964: I tensorflow/stream_executor/cuda/cudart_stub.cc:29] Ignore above cudart dlerror if you do not have a GPU set up on your machine.\n"
     ]
    }
   ],
   "source": [
    "import pandas as pd\n",
    "import numpy as np\n",
    "import matplotlib.pyplot as plt\n",
    "import os, shutil \n",
    "import tensorflow as tf\n",
    "from keras.preprocessing.image import ImageDataGenerator\n",
    "from tensorflow.keras import layers\n"
   ]
  },
  {
   "cell_type": "code",
   "execution_count": 2,
   "metadata": {},
   "outputs": [],
   "source": [
    "original_dataset_dir = '/home/jordan/Downloads/kaggle_original_data'\n",
    "\n",
    "base_dir = '/home/jordan/Downloads/cats_and_dogs_small'\n",
    "#os.mkdir(base_dir)\n",
    "\n",
    "train_dir = os.path.join(base_dir, 'train')\n",
    "#os.mkdir(train_dir)\n",
    "validation_dir = os.path.join(base_dir, 'validation')\n",
    "#os.mkdir(validation_dir)\n",
    "test_dir = os.path.join(base_dir, 'test')\n",
    "#os.mkdir(test_dir)\n",
    "\n",
    "train_cats_dir = os.path.join(train_dir, 'cats')\n",
    "#os.mkdir(train_cats_dir)\n",
    "\n",
    "train_dogs_dir = os.path.join(train_dir, 'dogs')\n",
    "#os.mkdir(train_dogs_dir)\n",
    "\n",
    "validation_cats_dir = os.path.join(validation_dir, 'cats')\n",
    "#os.mkdir(validation_cats_dir)\n",
    "\n",
    "validation_dogs_dir = os.path.join(validation_dir, 'dogs')\n",
    "#os.mkdir(validation_dogs_dir)\n",
    "\n",
    "test_cats_dir = os.path.join(test_dir, 'cats')\n",
    "#os.mkdir(test_cats_dir)\n",
    "\n",
    "test_dogs_dir = os.path.join(test_dir, 'dogs')\n",
    "#os.mkdir(test_dogs_dir)"
   ]
  },
  {
   "cell_type": "code",
   "execution_count": 3,
   "metadata": {},
   "outputs": [],
   "source": [
    "fnames = ['cat.{}.jpg'.format(i) for i in range(1000)]\n",
    "for fname in fnames:\n",
    "    src = os.path.join(original_dataset_dir, fname)\n",
    "    dst = os.path.join(train_cats_dir, fname)\n",
    "    shutil.copyfile(src, dst)\n",
    "    \n",
    "fnames = ['cat.{}.jpg'.format(i) for i in range(1000, 1500)]\n",
    "for fname in fnames:\n",
    "    src = os.path.join(original_dataset_dir, fname)\n",
    "    dst = os.path.join(validation_cats_dir, fname)\n",
    "    shutil.copyfile(src, dst)\n",
    "    \n",
    "fnames = ['cat.{}.jpg'.format(i) for i in range(1500, 2000)]\n",
    "for fname in fnames:\n",
    "    src = os.path.join(original_dataset_dir, fname)\n",
    "    dst = os.path.join(test_cats_dir, fname)\n",
    "    shutil.copyfile(src, dst)\n",
    "    \n",
    "fnames = ['dog.{}.jpg'.format(i) for i in range(1000)]\n",
    "for fname in fnames:\n",
    "    src = os.path.join(original_dataset_dir, fname)\n",
    "    dst = os.path.join(train_dogs_dir, fname)\n",
    "    shutil.copyfile(src, dst)\n",
    "    \n",
    "fnames = ['dog.{}.jpg'.format(i) for i in range(1000, 1500)]\n",
    "for fname in fnames:\n",
    "    src = os.path.join(original_dataset_dir, fname)\n",
    "    dst = os.path.join(validation_dogs_dir, fname)\n",
    "    shutil.copyfile(src, dst)\n",
    "    \n",
    "fnames = ['dog.{}.jpg'.format(i) for i in range(1500, 2000)]\n",
    "for fname in fnames:\n",
    "    src = os.path.join(original_dataset_dir, fname)\n",
    "    dst = os.path.join(test_dogs_dir, fname)\n",
    "    shutil.copyfile(src, dst)"
   ]
  },
  {
   "cell_type": "code",
   "execution_count": null,
   "metadata": {},
   "outputs": [],
   "source": [
    "model = tf.keras.Sequential([\n",
    "        tf.keras.layers.Conv2D(32,(3,3), activation='relu', input_shape = (150,150,3)),\n",
    "        tf.keras.layers.MaxPooling2D((2, 2)),\n",
    "        tf.keras.layers.Conv2D(64,(3,3), activation='relu'),\n",
    "        tf.keras.layers.MaxPooling2D((2, 2)),\n",
    "        tf.keras.layers.Conv2D(128,(3,3), activation='relu'),\n",
    "        tf.keras.layers.MaxPooling2D((2, 2)),\n",
    "        tf.keras.layers.Conv2D(128,(3,3), activation='relu'),\n",
    "        tf.keras.layers.MaxPooling2D((2, 2)),\n",
    "        tf.keras.layers.Flatten(),\n",
    "        tf.keras.layers.Dense(512, activation='relu'),\n",
    "        tf.keras.layers.Dense(1, activation = 'sigmoid')\n",
    "])"
   ]
  },
  {
   "cell_type": "code",
   "execution_count": null,
   "metadata": {},
   "outputs": [],
   "source": [
    "\n",
    "model.compile(loss='binary_crossentropy',\n",
    "              optimizer='rmsprop',\n",
    "              metrics=['accuracy'])"
   ]
  },
  {
   "cell_type": "code",
   "execution_count": 4,
   "metadata": {},
   "outputs": [
    {
     "name": "stdout",
     "output_type": "stream",
     "text": [
      "Found 2000 images belonging to 2 classes.\n",
      "Found 1000 images belonging to 2 classes.\n"
     ]
    }
   ],
   "source": [
    "from keras.preprocessing.image import ImageDataGenerator\n",
    "\n",
    "train_datagen = ImageDataGenerator(rescale=1./255)\n",
    "test_datagen = ImageDataGenerator(rescale=1./255)\n",
    "\n",
    "train_generator = train_datagen.flow_from_directory(\n",
    "        train_dir,\n",
    "        target_size=(150, 150),\n",
    "        batch_size=20,\n",
    "        class_mode='binary')\n",
    "\n",
    "validation_generator = test_datagen.flow_from_directory(\n",
    "        validation_dir,\n",
    "        target_size=(150, 150),\n",
    "        batch_size=20,\n",
    "        class_mode='binary')"
   ]
  },
  {
   "cell_type": "code",
   "execution_count": null,
   "metadata": {},
   "outputs": [],
   "source": [
    "history = model.fit(\n",
    "      train_generator,\n",
    "      steps_per_epoch=100,\n",
    "      epochs=30,\n",
    "      validation_data=validation_generator,\n",
    "      validation_steps=50)"
   ]
  },
  {
   "cell_type": "code",
   "execution_count": 12,
   "metadata": {},
   "outputs": [
    {
     "data": {
      "image/png": "[encoded data removed]",
      "text/plain": [
       "<Figure size 432x288 with 1 Axes>"
      ]
     },
     "metadata": {
      "needs_background": "light"
     },
     "output_type": "display_data"
    },
    {
     "data": {
      "image/png": "[encoded data removed]",
      "text/plain": [
       "<Figure size 432x288 with 1 Axes>"
      ]
     },
     "metadata": {
      "needs_background": "light"
     },
     "output_type": "display_data"
    }
   ],
   "source": [
    "import matplotlib.pyplot as plt\n",
    "\n",
    "acc = history.history['accuracy']\n",
    "val_acc = history.history['val_accuracy']\n",
    "loss = history.history['loss']\n",
    "val_loss = history.history['val_loss']\n",
    "\n",
    "epochs = range(1, len(acc) + 1)\n",
    "\n",
    "plt.plot(epochs, acc, 'bo', label='Training acc')\n",
    "plt.plot(epochs, val_acc, 'b', label='Validation acc')\n",
    "plt.title('Training and validation accuracy')\n",
    "plt.legend()\n",
    "\n",
    "plt.figure()\n",
    "\n",
    "plt.plot(epochs, loss, 'bo', label='Training loss')\n",
    "plt.plot(epochs, val_loss, 'b', label='Validation loss')\n",
    "plt.title('Training and validation loss')\n",
    "plt.legend()\n",
    "\n",
    "plt.show()"
   ]
  },
  {
   "cell_type": "code",
   "execution_count": 11,
   "metadata": {},
   "outputs": [],
   "source": [
    "model2.save('cats_and_dogs_small_2.h5')"
   ]
  },
  {
   "cell_type": "markdown",
   "metadata": {},
   "source": [
    "### Model with data augmentation"
   ]
  },
  {
   "cell_type": "code",
   "execution_count": 5,
   "metadata": {},
   "outputs": [
    {
     "name": "stderr",
     "output_type": "stream",
     "text": [
      "2022-08-04 19:18:12.812891: W tensorflow/stream_executor/platform/default/dso_loader.cc:64] Could not load dynamic library 'libcuda.so.1'; dlerror: libcuda.so.1: cannot open shared object file: No such file or directory\n",
      "2022-08-04 19:18:12.812926: W tensorflow/stream_executor/cuda/cuda_driver.cc:269] failed call to cuInit: UNKNOWN ERROR (303)\n",
      "2022-08-04 19:18:12.812948: I tensorflow/stream_executor/cuda/cuda_diagnostics.cc:156] kernel driver does not appear to be running on this host (pop-os): /proc/driver/nvidia/version does not exist\n",
      "2022-08-04 19:18:12.813145: I tensorflow/core/platform/cpu_feature_guard.cc:151] This TensorFlow binary is optimized with oneAPI Deep Neural Network Library (oneDNN) to use the following CPU instructions in performance-critical operations:  AVX2 FMA\n",
      "To enable them in other operations, rebuild TensorFlow with the appropriate compiler flags.\n"
     ]
    }
   ],
   "source": [
    "data_augmentation = tf.keras.Sequential([\n",
    "    layers.RandomFlip(\"horizontal\"),\n",
    "    layers.RandomRotation(0.4),\n",
    "    layers.RandomZoom(0.2),\n",
    "])"
   ]
  },
  {
   "cell_type": "code",
   "execution_count": 6,
   "metadata": {},
   "outputs": [],
   "source": [
    "model2 = tf.keras.Sequential([\n",
    "        data_augmentation,\n",
    "        tf.keras.layers.Conv2D(32,(3,3), activation='relu', input_shape = (150,150,3)),\n",
    "        tf.keras.layers.MaxPooling2D((2, 2)),\n",
    "        tf.keras.layers.Conv2D(64,(3,3), activation='relu'),\n",
    "        tf.keras.layers.MaxPooling2D((2, 2)),\n",
    "        tf.keras.layers.Conv2D(128,(3,3), activation='relu'),\n",
    "        tf.keras.layers.MaxPooling2D((2, 2)),\n",
    "        tf.keras.layers.Conv2D(128,(3,3), activation='relu'),\n",
    "        tf.keras.layers.MaxPooling2D((2, 2)),\n",
    "        tf.keras.layers.Flatten(),\n",
    "        tf.keras.layers.Dropout(0.5),\n",
    "        tf.keras.layers.Dense(512, activation='relu'),\n",
    "        tf.keras.layers.Dense(1, activation = 'sigmoid')\n",
    "])"
   ]
  },
  {
   "cell_type": "code",
   "execution_count": 9,
   "metadata": {},
   "outputs": [],
   "source": [
    "model2.compile(loss='binary_crossentropy',\n",
    "              optimizer='rmsprop',\n",
    "              metrics=['accuracy'])"
   ]
  },
  {
   "cell_type": "code",
   "execution_count": 10,
   "metadata": {},
   "outputs": [
    {
     "name": "stdout",
     "output_type": "stream",
     "text": [
      "Epoch 1/100\n",
      "100/100 [==============================] - 58s 560ms/step - loss: 0.7154 - accuracy: 0.5100 - val_loss: 0.6909 - val_accuracy: 0.5040\n",
      "Epoch 2/100\n",
      "100/100 [==============================] - 54s 536ms/step - loss: 0.7160 - accuracy: 0.5440 - val_loss: 0.6668 - val_accuracy: 0.6050\n",
      "Epoch 3/100\n",
      "100/100 [==============================] - 53s 527ms/step - loss: 0.6807 - accuracy: 0.5980 - val_loss: 0.6479 - val_accuracy: 0.6120\n",
      "Epoch 4/100\n",
      "100/100 [==============================] - 53s 530ms/step - loss: 0.6603 - accuracy: 0.6155 - val_loss: 0.6329 - val_accuracy: 0.6410\n",
      "Epoch 5/100\n",
      "100/100 [==============================] - 53s 530ms/step - loss: 0.6415 - accuracy: 0.6390 - val_loss: 0.6461 - val_accuracy: 0.6200\n",
      "Epoch 6/100\n",
      "100/100 [==============================] - 53s 532ms/step - loss: 0.6449 - accuracy: 0.6320 - val_loss: 0.6272 - val_accuracy: 0.6470\n",
      "Epoch 7/100\n",
      "100/100 [==============================] - 52s 519ms/step - loss: 0.6280 - accuracy: 0.6555 - val_loss: 0.6481 - val_accuracy: 0.6190\n",
      "Epoch 8/100\n",
      "100/100 [==============================] - 51s 515ms/step - loss: 0.6133 - accuracy: 0.6705 - val_loss: 0.7274 - val_accuracy: 0.5650\n",
      "Epoch 9/100\n",
      "100/100 [==============================] - 51s 515ms/step - loss: 0.6088 - accuracy: 0.6795 - val_loss: 0.5930 - val_accuracy: 0.6910\n",
      "Epoch 10/100\n",
      "100/100 [==============================] - 52s 517ms/step - loss: 0.6019 - accuracy: 0.6750 - val_loss: 2.4414 - val_accuracy: 0.5180\n",
      "Epoch 11/100\n",
      "100/100 [==============================] - 52s 517ms/step - loss: 0.6110 - accuracy: 0.6795 - val_loss: 0.5842 - val_accuracy: 0.6810\n",
      "Epoch 12/100\n",
      "100/100 [==============================] - 52s 519ms/step - loss: 0.5850 - accuracy: 0.6900 - val_loss: 0.6010 - val_accuracy: 0.6580\n",
      "Epoch 13/100\n",
      "100/100 [==============================] - 47s 467ms/step - loss: 0.5917 - accuracy: 0.6885 - val_loss: 0.6965 - val_accuracy: 0.6260\n",
      "Epoch 14/100\n",
      "100/100 [==============================] - 43s 430ms/step - loss: 0.5921 - accuracy: 0.6940 - val_loss: 0.6204 - val_accuracy: 0.6760\n",
      "Epoch 15/100\n",
      "100/100 [==============================] - 43s 429ms/step - loss: 0.5793 - accuracy: 0.6940 - val_loss: 0.5757 - val_accuracy: 0.7070\n",
      "Epoch 16/100\n",
      "100/100 [==============================] - 43s 430ms/step - loss: 0.5742 - accuracy: 0.7130 - val_loss: 0.5553 - val_accuracy: 0.7130\n",
      "Epoch 17/100\n",
      "100/100 [==============================] - 49s 487ms/step - loss: 0.5745 - accuracy: 0.7015 - val_loss: 0.5790 - val_accuracy: 0.6820\n",
      "Epoch 18/100\n",
      "100/100 [==============================] - 53s 527ms/step - loss: 0.5807 - accuracy: 0.6975 - val_loss: 0.5328 - val_accuracy: 0.7240\n",
      "Epoch 19/100\n",
      "100/100 [==============================] - 52s 523ms/step - loss: 0.5737 - accuracy: 0.7150 - val_loss: 0.5676 - val_accuracy: 0.7100\n",
      "Epoch 20/100\n",
      "100/100 [==============================] - 52s 525ms/step - loss: 0.5592 - accuracy: 0.7230 - val_loss: 0.5641 - val_accuracy: 0.7040\n",
      "Epoch 21/100\n",
      "100/100 [==============================] - 53s 526ms/step - loss: 0.5483 - accuracy: 0.7225 - val_loss: 0.5650 - val_accuracy: 0.7170\n",
      "Epoch 22/100\n",
      "100/100 [==============================] - 53s 533ms/step - loss: 0.5585 - accuracy: 0.7205 - val_loss: 0.7106 - val_accuracy: 0.6640\n",
      "Epoch 23/100\n",
      "100/100 [==============================] - 54s 540ms/step - loss: 0.5547 - accuracy: 0.7345 - val_loss: 0.5742 - val_accuracy: 0.6920\n",
      "Epoch 24/100\n",
      "100/100 [==============================] - 54s 539ms/step - loss: 0.5578 - accuracy: 0.7265 - val_loss: 0.5523 - val_accuracy: 0.7230\n",
      "Epoch 25/100\n",
      "100/100 [==============================] - 54s 540ms/step - loss: 0.5578 - accuracy: 0.7175 - val_loss: 0.5444 - val_accuracy: 0.7260\n",
      "Epoch 26/100\n",
      "100/100 [==============================] - 54s 541ms/step - loss: 0.5548 - accuracy: 0.7355 - val_loss: 0.5856 - val_accuracy: 0.7120\n",
      "Epoch 27/100\n",
      "100/100 [==============================] - 54s 540ms/step - loss: 0.5428 - accuracy: 0.7365 - val_loss: 0.5345 - val_accuracy: 0.7340\n",
      "Epoch 28/100\n",
      "100/100 [==============================] - 54s 541ms/step - loss: 0.5423 - accuracy: 0.7330 - val_loss: 0.5674 - val_accuracy: 0.7200\n",
      "Epoch 29/100\n",
      "100/100 [==============================] - 53s 532ms/step - loss: 0.5422 - accuracy: 0.7280 - val_loss: 0.7076 - val_accuracy: 0.6080\n",
      "Epoch 30/100\n",
      "100/100 [==============================] - 54s 541ms/step - loss: 0.5336 - accuracy: 0.7360 - val_loss: 0.5815 - val_accuracy: 0.7020\n",
      "Epoch 31/100\n",
      "100/100 [==============================] - 54s 540ms/step - loss: 0.5326 - accuracy: 0.7355 - val_loss: 0.6027 - val_accuracy: 0.6960\n",
      "Epoch 32/100\n",
      "100/100 [==============================] - 54s 541ms/step - loss: 0.5231 - accuracy: 0.7490 - val_loss: 0.8638 - val_accuracy: 0.6790\n",
      "Epoch 33/100\n",
      "100/100 [==============================] - 60s 597ms/step - loss: 0.5408 - accuracy: 0.7355 - val_loss: 0.5235 - val_accuracy: 0.7440\n",
      "Epoch 34/100\n",
      "100/100 [==============================] - 62s 616ms/step - loss: 0.5307 - accuracy: 0.7305 - val_loss: 0.5777 - val_accuracy: 0.7160\n",
      "Epoch 35/100\n",
      "100/100 [==============================] - 58s 578ms/step - loss: 0.5286 - accuracy: 0.7410 - val_loss: 0.5530 - val_accuracy: 0.7300\n",
      "Epoch 36/100\n",
      "100/100 [==============================] - 64s 640ms/step - loss: 0.5172 - accuracy: 0.7515 - val_loss: 0.5333 - val_accuracy: 0.7490\n",
      "Epoch 37/100\n",
      "100/100 [==============================] - 49s 490ms/step - loss: 0.5248 - accuracy: 0.7430 - val_loss: 0.5099 - val_accuracy: 0.7560\n",
      "Epoch 38/100\n",
      "100/100 [==============================] - 48s 481ms/step - loss: 0.5261 - accuracy: 0.7475 - val_loss: 0.5296 - val_accuracy: 0.7440\n",
      "Epoch 39/100\n",
      "100/100 [==============================] - 48s 479ms/step - loss: 0.5111 - accuracy: 0.7475 - val_loss: 0.5776 - val_accuracy: 0.7310\n",
      "Epoch 40/100\n",
      "100/100 [==============================] - 44s 441ms/step - loss: 0.5222 - accuracy: 0.7545 - val_loss: 0.5391 - val_accuracy: 0.7230\n",
      "Epoch 41/100\n",
      "100/100 [==============================] - 44s 442ms/step - loss: 0.5301 - accuracy: 0.7515 - val_loss: 0.6038 - val_accuracy: 0.6900\n",
      "Epoch 42/100\n",
      "100/100 [==============================] - 44s 441ms/step - loss: 0.5108 - accuracy: 0.7540 - val_loss: 0.5414 - val_accuracy: 0.7230\n",
      "Epoch 43/100\n",
      "100/100 [==============================] - 44s 439ms/step - loss: 0.5040 - accuracy: 0.7645 - val_loss: 0.5176 - val_accuracy: 0.7540\n",
      "Epoch 44/100\n",
      "100/100 [==============================] - 53s 533ms/step - loss: 0.5144 - accuracy: 0.7585 - val_loss: 0.5080 - val_accuracy: 0.7380\n",
      "Epoch 45/100\n",
      "100/100 [==============================] - 49s 490ms/step - loss: 0.5056 - accuracy: 0.7580 - val_loss: 0.5360 - val_accuracy: 0.7370\n",
      "Epoch 46/100\n",
      "100/100 [==============================] - 61s 605ms/step - loss: 0.5006 - accuracy: 0.7675 - val_loss: 0.5659 - val_accuracy: 0.7070\n",
      "Epoch 47/100\n",
      "100/100 [==============================] - 72s 716ms/step - loss: 0.4997 - accuracy: 0.7760 - val_loss: 0.6059 - val_accuracy: 0.7320\n",
      "Epoch 48/100\n",
      "100/100 [==============================] - 67s 669ms/step - loss: 0.5029 - accuracy: 0.7715 - val_loss: 0.5180 - val_accuracy: 0.7460\n",
      "Epoch 49/100\n",
      "100/100 [==============================] - 69s 690ms/step - loss: 0.5004 - accuracy: 0.7710 - val_loss: 0.5441 - val_accuracy: 0.7490\n",
      "Epoch 50/100\n",
      "100/100 [==============================] - 66s 658ms/step - loss: 0.5012 - accuracy: 0.7680 - val_loss: 0.5017 - val_accuracy: 0.7560\n",
      "Epoch 51/100\n",
      "100/100 [==============================] - 64s 634ms/step - loss: 0.4967 - accuracy: 0.7720 - val_loss: 0.5507 - val_accuracy: 0.7430\n",
      "Epoch 52/100\n",
      "100/100 [==============================] - 63s 626ms/step - loss: 0.4900 - accuracy: 0.7700 - val_loss: 0.5131 - val_accuracy: 0.7580\n",
      "Epoch 53/100\n",
      "100/100 [==============================] - 63s 625ms/step - loss: 0.5095 - accuracy: 0.7690 - val_loss: 0.5113 - val_accuracy: 0.7710\n",
      "Epoch 54/100\n",
      "100/100 [==============================] - 63s 627ms/step - loss: 0.5096 - accuracy: 0.7600 - val_loss: 0.4963 - val_accuracy: 0.7500\n",
      "Epoch 55/100\n",
      "100/100 [==============================] - 63s 632ms/step - loss: 0.5055 - accuracy: 0.7605 - val_loss: 0.5181 - val_accuracy: 0.7620\n",
      "Epoch 56/100\n",
      "100/100 [==============================] - 49s 486ms/step - loss: 0.4910 - accuracy: 0.7755 - val_loss: 0.6043 - val_accuracy: 0.7230\n",
      "Epoch 57/100\n",
      "100/100 [==============================] - 44s 445ms/step - loss: 0.4946 - accuracy: 0.7745 - val_loss: 0.9000 - val_accuracy: 0.7070\n",
      "Epoch 58/100\n",
      "100/100 [==============================] - 44s 445ms/step - loss: 0.4972 - accuracy: 0.7770 - val_loss: 0.5440 - val_accuracy: 0.7510\n",
      "Epoch 59/100\n",
      "100/100 [==============================] - 45s 446ms/step - loss: 0.5001 - accuracy: 0.7625 - val_loss: 0.5093 - val_accuracy: 0.7580\n",
      "Epoch 60/100\n",
      "100/100 [==============================] - 45s 445ms/step - loss: 0.4930 - accuracy: 0.7595 - val_loss: 0.5286 - val_accuracy: 0.7410\n",
      "Epoch 61/100\n",
      "100/100 [==============================] - 44s 445ms/step - loss: 0.4856 - accuracy: 0.7805 - val_loss: 0.5295 - val_accuracy: 0.7470\n",
      "Epoch 62/100\n",
      "100/100 [==============================] - 44s 445ms/step - loss: 0.5033 - accuracy: 0.7780 - val_loss: 0.5168 - val_accuracy: 0.7590\n",
      "Epoch 63/100\n",
      "100/100 [==============================] - 44s 445ms/step - loss: 0.4802 - accuracy: 0.7760 - val_loss: 0.5155 - val_accuracy: 0.7450\n",
      "Epoch 64/100\n",
      "100/100 [==============================] - 44s 443ms/step - loss: 0.4820 - accuracy: 0.7865 - val_loss: 0.5801 - val_accuracy: 0.6930\n",
      "Epoch 65/100\n",
      "100/100 [==============================] - 44s 445ms/step - loss: 0.4939 - accuracy: 0.7635 - val_loss: 0.5107 - val_accuracy: 0.7720\n",
      "Epoch 66/100\n",
      "100/100 [==============================] - 44s 443ms/step - loss: 0.4955 - accuracy: 0.7655 - val_loss: 0.5231 - val_accuracy: 0.7560\n",
      "Epoch 67/100\n",
      "100/100 [==============================] - 44s 444ms/step - loss: 0.4904 - accuracy: 0.7600 - val_loss: 0.5997 - val_accuracy: 0.7690\n",
      "Epoch 68/100\n",
      "100/100 [==============================] - 45s 445ms/step - loss: 0.5241 - accuracy: 0.7825 - val_loss: 0.5270 - val_accuracy: 0.7410\n",
      "Epoch 69/100\n",
      "100/100 [==============================] - 45s 445ms/step - loss: 0.4853 - accuracy: 0.7830 - val_loss: 0.5787 - val_accuracy: 0.7500\n",
      "Epoch 70/100\n",
      "100/100 [==============================] - 44s 444ms/step - loss: 0.5031 - accuracy: 0.7660 - val_loss: 0.5298 - val_accuracy: 0.7520\n",
      "Epoch 71/100\n",
      "100/100 [==============================] - 44s 444ms/step - loss: 0.4920 - accuracy: 0.7835 - val_loss: 0.4911 - val_accuracy: 0.7620\n",
      "Epoch 72/100\n",
      "100/100 [==============================] - 44s 444ms/step - loss: 0.4802 - accuracy: 0.7890 - val_loss: 0.5118 - val_accuracy: 0.7750\n",
      "Epoch 73/100\n",
      "100/100 [==============================] - 44s 442ms/step - loss: 0.4684 - accuracy: 0.7865 - val_loss: 0.6894 - val_accuracy: 0.6830\n",
      "Epoch 74/100\n",
      "100/100 [==============================] - 44s 443ms/step - loss: 0.4892 - accuracy: 0.7620 - val_loss: 0.5256 - val_accuracy: 0.7690\n",
      "Epoch 75/100\n",
      "100/100 [==============================] - 44s 445ms/step - loss: 0.4797 - accuracy: 0.7840 - val_loss: 0.4903 - val_accuracy: 0.7660\n",
      "Epoch 76/100\n",
      "100/100 [==============================] - 44s 445ms/step - loss: 0.4856 - accuracy: 0.7810 - val_loss: 0.5391 - val_accuracy: 0.7300\n",
      "Epoch 77/100\n",
      "100/100 [==============================] - 44s 444ms/step - loss: 0.4927 - accuracy: 0.7805 - val_loss: 0.5261 - val_accuracy: 0.7230\n",
      "Epoch 78/100\n",
      "100/100 [==============================] - 44s 443ms/step - loss: 0.4647 - accuracy: 0.7880 - val_loss: 0.4998 - val_accuracy: 0.7660\n",
      "Epoch 79/100\n",
      "100/100 [==============================] - 44s 442ms/step - loss: 0.4876 - accuracy: 0.7690 - val_loss: 0.4977 - val_accuracy: 0.7620\n",
      "Epoch 80/100\n",
      "100/100 [==============================] - 44s 442ms/step - loss: 0.4711 - accuracy: 0.7905 - val_loss: 0.5075 - val_accuracy: 0.7670\n",
      "Epoch 81/100\n",
      "100/100 [==============================] - 44s 441ms/step - loss: 0.4706 - accuracy: 0.7790 - val_loss: 0.4779 - val_accuracy: 0.7890\n",
      "Epoch 82/100\n",
      "100/100 [==============================] - 44s 441ms/step - loss: 0.4727 - accuracy: 0.7975 - val_loss: 0.5914 - val_accuracy: 0.7640\n",
      "Epoch 83/100\n",
      "100/100 [==============================] - 44s 442ms/step - loss: 0.5013 - accuracy: 0.7690 - val_loss: 0.5408 - val_accuracy: 0.7490\n",
      "Epoch 84/100\n",
      "100/100 [==============================] - 44s 443ms/step - loss: 0.4666 - accuracy: 0.7925 - val_loss: 0.5669 - val_accuracy: 0.7580\n",
      "Epoch 85/100\n",
      "100/100 [==============================] - 44s 442ms/step - loss: 0.4491 - accuracy: 0.7965 - val_loss: 0.5657 - val_accuracy: 0.7720\n",
      "Epoch 86/100\n",
      "100/100 [==============================] - 44s 442ms/step - loss: 0.4731 - accuracy: 0.7880 - val_loss: 0.5160 - val_accuracy: 0.7610\n",
      "Epoch 87/100\n",
      "100/100 [==============================] - 44s 442ms/step - loss: 0.5005 - accuracy: 0.7750 - val_loss: 0.6739 - val_accuracy: 0.7230\n",
      "Epoch 88/100\n",
      "100/100 [==============================] - 44s 442ms/step - loss: 0.4791 - accuracy: 0.7865 - val_loss: 0.5837 - val_accuracy: 0.7590\n",
      "Epoch 89/100\n",
      "100/100 [==============================] - 44s 442ms/step - loss: 0.4668 - accuracy: 0.7920 - val_loss: 0.5894 - val_accuracy: 0.7670\n",
      "Epoch 90/100\n",
      "100/100 [==============================] - 44s 442ms/step - loss: 0.4707 - accuracy: 0.7820 - val_loss: 0.6101 - val_accuracy: 0.7690\n",
      "Epoch 91/100\n",
      "100/100 [==============================] - 44s 444ms/step - loss: 0.4760 - accuracy: 0.7865 - val_loss: 0.4973 - val_accuracy: 0.7460\n",
      "Epoch 92/100\n",
      "100/100 [==============================] - 44s 442ms/step - loss: 0.4741 - accuracy: 0.7850 - val_loss: 0.4952 - val_accuracy: 0.7650\n",
      "Epoch 93/100\n",
      "100/100 [==============================] - 44s 442ms/step - loss: 0.4768 - accuracy: 0.7800 - val_loss: 0.7576 - val_accuracy: 0.7230\n",
      "Epoch 94/100\n",
      "100/100 [==============================] - 44s 443ms/step - loss: 0.4797 - accuracy: 0.7875 - val_loss: 0.6648 - val_accuracy: 0.6240\n",
      "Epoch 95/100\n",
      "100/100 [==============================] - 44s 443ms/step - loss: 0.4794 - accuracy: 0.7925 - val_loss: 0.5847 - val_accuracy: 0.7410\n",
      "Epoch 96/100\n",
      "100/100 [==============================] - 44s 444ms/step - loss: 0.4773 - accuracy: 0.7865 - val_loss: 0.4667 - val_accuracy: 0.7550\n",
      "Epoch 97/100\n",
      "100/100 [==============================] - 44s 442ms/step - loss: 0.4684 - accuracy: 0.7880 - val_loss: 0.4707 - val_accuracy: 0.7790\n",
      "Epoch 98/100\n",
      "100/100 [==============================] - 44s 443ms/step - loss: 0.4707 - accuracy: 0.7830 - val_loss: 0.5444 - val_accuracy: 0.7620\n",
      "Epoch 99/100\n",
      "100/100 [==============================] - 44s 443ms/step - loss: 0.4832 - accuracy: 0.7935 - val_loss: 0.6578 - val_accuracy: 0.7350\n",
      "Epoch 100/100\n",
      "100/100 [==============================] - 44s 442ms/step - loss: 0.4592 - accuracy: 0.8000 - val_loss: 0.6433 - val_accuracy: 0.7030\n"
     ]
    }
   ],
   "source": [
    "history = model2.fit(\n",
    "      train_generator,\n",
    "      steps_per_epoch=100,\n",
    "      epochs=100,\n",
    "      validation_data=validation_generator,\n",
    "      validation_steps=50)"
   ]
  }
 ],
 "metadata": {
  "interpreter": {
   "hash": "e7370f93d1d0cde622a1f8e1c04877d8463912d04d973331ad4851f04de6915a"
  },
  "kernelspec": {
   "display_name": "Python 3.9.7 64-bit",
   "language": "python",
   "name": "python3"
  },
  "language_info": {
   "codemirror_mode": {
    "name": "ipython",
    "version": 3
   },
   "file_extension": ".py",
   "mimetype": "text/x-python",
   "name": "python",
   "nbconvert_exporter": "python",
   "pygments_lexer": "ipython3",
   "version": "3.9.7"
  },
  "orig_nbformat": 4
 },
 "nbformat": 4,
 "nbformat_minor": 2
}
