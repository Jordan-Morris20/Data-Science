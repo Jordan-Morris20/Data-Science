{
 "cells": [
  {
   "cell_type": "code",
   "execution_count": 1,
   "metadata": {},
   "outputs": [
    {
     "name": "stderr",
     "output_type": "stream",
     "text": [
      "2022-03-14 12:17:04.349715: W tensorflow/stream_executor/platform/default/dso_loader.cc:64] Could not load dynamic library 'libcudart.so.11.0'; dlerror: libcudart.so.11.0: cannot open shared object file: No such file or directory\n",
      "2022-03-14 12:17:04.349738: I tensorflow/stream_executor/cuda/cudart_stub.cc:29] Ignore above cudart dlerror if you do not have a GPU set up on your machine.\n"
     ]
    }
   ],
   "source": [
    "import pandas as pd\n",
    "import numpy as np\n",
    "import os\n",
    "import tensorflow as tf\n",
    "import seaborn as sns\n",
    "import matplotlib as mpl\n",
    "import matplotlib.pyplot as plt\n",
    "import time\n",
    "from datetime import datetime\n",
    "import tensorflow_addons as tfa\n",
    "import keras_tuner as kt"
   ]
  },
  {
   "cell_type": "code",
   "execution_count": 2,
   "metadata": {},
   "outputs": [],
   "source": [
    "def exports():   \n",
    "    # Set CUDA and CUPTI paths  \n",
    "    os.environ['CUDA_HOME'] = '/usr/local/cuda'\n",
    "    os.environ['PATH']= '/usr/local/cuda/bin:$PATH'  \n",
    "    os.environ['CPATH'] = '/usr/local/cuda/include:$CPATH'  \n",
    "    os.environ['LIBRARY_PATH'] = '/usr/local/cuda/lib64:$LIBRARY_PATH'  \n",
    "    os.environ['LD_LIBRARY_PATH'] = '/usr/local/cuda/extras/CUPTI/lib64:$LD_LIBRARY_PATH'  \n",
    "    os.environ['LD_LIBRARY_PATH'] = '/usr/local/cuda/lib64:$LD_LIBRARY_PATH'\n",
    "    os.environ['TF_GPU_THREAD_MODE']='gpu_private'"
   ]
  },
  {
   "cell_type": "code",
   "execution_count": 3,
   "metadata": {},
   "outputs": [
    {
     "data": {
      "text/plain": [
       "<function __main__.exports()>"
      ]
     },
     "execution_count": 3,
     "metadata": {},
     "output_type": "execute_result"
    }
   ],
   "source": [
    "exports"
   ]
  },
  {
   "cell_type": "markdown",
   "metadata": {},
   "source": [
    "# Load data"
   ]
  },
  {
   "cell_type": "code",
   "execution_count": 4,
   "metadata": {},
   "outputs": [],
   "source": [
    "cf15= pd.read_csv('/home/jordan/Documents/DataSets/DimensionData/cf15.csv', low_memory=False, header=None)\n",
    "gf25= pd.read_csv('/home/jordan/Documents/DataSets/DimensionData/gf25.csv', low_memory=False, header=None)\n",
    "gf34= pd.read_csv('/home/jordan/Documents/DataSets/DimensionData/gf34.csv', low_memory=False, header=None)\n",
    "gm01= pd.read_csv('/home/jordan/Documents/DataSets/DimensionData/gm01.csv', low_memory=False, header=None)\n",
    "hc10= pd.read_csv('/home/jordan/Documents/DataSets/DimensionData/hc10.csv', low_memory=False, header=None)\n",
    "nc46= pd.read_csv('/home/jordan/Documents/DataSets/DimensionData/nc46.csv', low_memory=False, header=None)\n",
    "nc74= pd.read_csv('/home/jordan/Documents/DataSets/DimensionData/nc74.csv', low_memory=False, header=None)\n",
    "nf11= pd.read_csv('/home/jordan/Documents/DataSets/DimensionData/nf11.csv', low_memory=False, header=None)\n",
    "no22= pd.read_csv('/home/jordan/Documents/DataSets/DimensionData/no22.csv', low_memory=False, header=None)\n",
    "wc16= pd.read_csv('/home/jordan/Documents/DataSets/DimensionData/wc16.csv', low_memory=False, header=None)\n",
    "wc41= pd.read_csv('/home/jordan/Documents/DataSets/DimensionData/wc41.csv', low_memory=False, header=None)\n",
    "wo27= pd.read_csv('/home/jordan/Documents/DataSets/DimensionData/wo27.csv', low_memory=False, header=None)\n",
    "wo34= pd.read_csv('/home/jordan/Documents/DataSets/DimensionData/wo34.csv', low_memory=False, header=None)\n",
    "wo36= pd.read_csv('/home/jordan/Documents/DataSets/DimensionData/wo36.csv', low_memory=False, header=None)\n",
    "wo37= pd.read_csv('/home/jordan/Documents/DataSets/DimensionData/wo37.csv', low_memory=False, header=None)\n",
    "wo40= pd.read_csv('/home/jordan/Documents/DataSets/DimensionData/wo40.csv', low_memory=False, header=None)\n",
    "wo45= pd.read_csv('/home/jordan/Documents/DataSets/DimensionData/wo45.csv', low_memory=False, header=None)"
   ]
  },
  {
   "cell_type": "code",
   "execution_count": 5,
   "metadata": {},
   "outputs": [],
   "source": [
    "val_1 = pd.read_csv('/home/jordan/Documents/DataSets/DimensionData/gm01_EarlyMarch.csv', low_memory=False, header=None)\n",
    "val_2 = pd.read_csv('/home/jordan/Documents/DataSets/DimensionData/wo36_EarlyMarch.csv', low_memory=False, header=None)\n",
    "val_3 = pd.read_csv('/home/jordan/Documents/DataSets/DimensionData/go22.csv', low_memory=False, header=None)"
   ]
  },
  {
   "cell_type": "code",
   "execution_count": 6,
   "metadata": {},
   "outputs": [],
   "source": [
    "frames =[cf15, gf25,gm01,nc46, nc74,nf11, wc16, wc41,wo27,wo34, wo36, wo37, wo40, wo45]\n",
    "frames_2=[val_1, val_2, val_3]\n",
    "data = pd.concat(frames)\n",
    "val = pd.concat(frames_2)"
   ]
  },
  {
   "cell_type": "markdown",
   "metadata": {},
   "source": [
    "# Define data cleaning functions"
   ]
  },
  {
   "cell_type": "code",
   "execution_count": 40,
   "metadata": {},
   "outputs": [],
   "source": [
    "def snip(data):\n",
    "    #Snip unwanted characters \n",
    "\n",
    "    itime= data.iloc[:,0]\n",
    "    itime=itime.map(lambda x: str(x[6:]))\n",
    "    itime=itime.map(lambda x: float(x))\n",
    "    itime=itime - 1646670000\n",
    "    day = 24*60*60\n",
    "    week = day*7\n",
    "    date=itime\n",
    "    day_sin= np.sin(itime*(2*np.pi / day))\n",
    "    day_cos= np.cos(itime*(2*np.pi / day))\n",
    "    week_sin= np.sin(itime*(2*np.pi / week))\n",
    "    week_cos= np.cos(itime*(2*np.pi / week))\n",
    "\n",
    "\n",
    "\n",
    "    interface= data.iloc[:,-14]\n",
    "    interface=interface.map(lambda x: str(x))\n",
    "    interface=interface.map(lambda x: str(x[15:]))\n",
    "    interface=interface.map(lambda x: str(x[:-1]))\n",
    "\n",
    "    dev_id=data.iloc[:,3]\n",
    "    dev_id=dev_id.map(lambda x: str(x))    \n",
    "    dev_id=dev_id.map(lambda x: str(x[7:]))\n",
    "    dev_id=dev_id.map(lambda x: str(x[:-1]))\n",
    "\n",
    "    jitter=data.iloc[:, -13]\n",
    "    jitter=jitter.map(lambda x: str(x))\n",
    "    jitter=jitter.map(lambda x: str(x[8:]))\n",
    "    jitter=jitter.map(lambda x: str(x[:-1]))\n",
    "    jitter=jitter.map(lambda x: float(x))\n",
    "\n",
    "    latency= data.iloc[:,-12]\n",
    "    latency=latency.map(lambda x: str(x))\n",
    "    latency=latency.map(lambda x: str(x[9:]))\n",
    "    latency=latency.map(lambda x: str(x[:-1]))\n",
    "    latency=latency.map(lambda x: float(x))\n",
    "\n",
    "    inband= data.iloc[:,-15]\n",
    "    inband=inband.map(lambda x: str(x))\n",
    "    inband=inband.map(lambda x: str(x[22:]))\n",
    "    inband=inband.map(lambda x: str(x[:-5]))\n",
    "    inband=inband.map(lambda x: float(x))\n",
    "\n",
    "    outband= data.iloc[:, -5]\n",
    "    outband=outband.map(lambda x: str(x))\n",
    "    outband=outband.map(lambda x: x.split('\"')[1])\n",
    "    outband=outband.map(lambda x: str(x[:-4]))\n",
    "    outband=outband.map(lambda x: float(x))\n",
    "\n",
    "    packet=data.iloc[:,-4]\n",
    "    packet=packet.map(lambda x: str(x))\n",
    "    packet=packet.map(lambda x: str(x[12:]))\n",
    "    packet=packet.map(lambda x: str(x[:-2]))\n",
    "    packet=packet.map(lambda x: float(x))\n",
    "\n",
    "    status=data.iloc[:,-2]\n",
    "    status=status.map(lambda x: str(x))\n",
    "    status=status.map(lambda x: str(x[8:]))\n",
    "    status=status.map(lambda x: str(x[:-1]))\n",
    "\n",
    "    status[:] = np.where(status==\"up\", 1,0)\n",
    "    status=status.map(lambda x: float(x))\n",
    "    status=status.rolling(10).mean()\n",
    "    status=status.map(np.floor)\n",
    "\n",
    "    train_init=pd.concat([itime, day_sin, day_cos, week_sin, week_cos, interface, dev_id, inband, outband, latency, packet, jitter, status], axis=1)\n",
    "    train_init.columns=['Time','Day Sin', 'Day Cos','Week Sin','Week Cos', 'Interface', 'Dev_id', 'Inband', 'Outband', 'Latency', 'Packet', 'Jitter', 'Status']\n",
    "\n",
    "    #Dedupp based on interfaces\n",
    "    train=train_init[train_init.Interface != 'NI2A-WWW1']\n",
    "    train=train[train.Interface != 'NI2B-WWW1']\n",
    "    train=train[train.Interface != 'NI2A-WWW2']\n",
    "    train=train[train.Interface != 'NI2B-WWW2']\n",
    "    train=train[train.Interface != 'NI2A-WWW3']    \n",
    "    train=train[train.Interface != 'NI2B-WWW3']\n",
    "    train=train[train.Interface != 'NI2A-MPLS']\n",
    "    train['Interface']= train['Interface'].astype('category')\n",
    "    train['Interface']=train['Interface'].cat.codes\n",
    "\n",
    "    #Remove unwanted columns\n",
    "    train_label=train.filter(['Status'])\n",
    "    train=train.drop(['Status','Inband', 'Outband'], axis=1)\n",
    "    train= train.sort_values(by=['Dev_id', 'Time'])\n",
    "    train=train.reset_index(drop=True)\n",
    "    train=train.drop(['Dev_id','Time'], axis=1)\n",
    "\n",
    "    return train, train_label"
   ]
  },
  {
   "cell_type": "code",
   "execution_count": 41,
   "metadata": {},
   "outputs": [],
   "source": [
    "train,train_label=snip(data)\n",
    "train=train.iloc[:-700, :]\n",
    "#train=train.to_numpy()\n",
    "train_label=train_label.iloc[700:]"
   ]
  },
  {
   "cell_type": "code",
   "execution_count": 42,
   "metadata": {},
   "outputs": [],
   "source": [
    "test,test_label=snip(val)\n",
    "test=test.iloc[:-700, :]\n",
    "#test=test.to_numpy()\n",
    "test_label=test_label.iloc[700:]"
   ]
  },
  {
   "cell_type": "code",
   "execution_count": 43,
   "metadata": {},
   "outputs": [],
   "source": [
    "#train, train_label = preproccess(data)\n",
    "mean=train.mean()\n",
    "std = train.std()\n",
    "train-=mean\n",
    "train/=std\n",
    "#test, test_label = preproccess(val)\n",
    "test-=mean\n",
    "test/=std"
   ]
  },
  {
   "cell_type": "code",
   "execution_count": 45,
   "metadata": {},
   "outputs": [
    {
     "data": {
      "image/png": "[encoded data removed]",
      "text/plain": [
       "<Figure size 864x432 with 1 Axes>"
      ]
     },
     "metadata": {
      "needs_background": "light"
     },
     "output_type": "display_data"
    }
   ],
   "source": [
    "df_std = (train - mean) / std\n",
    "df_std = df_std.melt(var_name='Column', value_name='Normalized')\n",
    "plt.figure(figsize=(12, 6))\n",
    "ax = sns.violinplot(x='Column', y='Normalized', data=df_std)\n",
    "_ = ax.set_xticklabels(train.keys(), rotation=90)"
   ]
  },
  {
   "cell_type": "code",
   "execution_count": 46,
   "metadata": {},
   "outputs": [
    {
     "name": "stderr",
     "output_type": "stream",
     "text": [
      "2022-03-14 12:48:45.690134: I tensorflow/core/profiler/lib/profiler_session.cc:110] Profiler session initializing.\n",
      "2022-03-14 12:48:45.690163: I tensorflow/core/profiler/lib/profiler_session.cc:125] Profiler session started.\n",
      "2022-03-14 12:48:45.719114: W tensorflow/stream_executor/platform/default/dso_loader.cc:64] Could not load dynamic library 'libcuda.so.1'; dlerror: libcuda.so.1: cannot open shared object file: No such file or directory\n",
      "2022-03-14 12:48:45.719894: I tensorflow/core/profiler/lib/profiler_session.cc:143] Profiler session tear down.\n"
     ]
    }
   ],
   "source": [
    "logs = \"logs/\" + datetime.now().strftime(\"%Y%m%d-%H%M%S\")\n",
    "tboard_callback = tf.keras.callbacks.TensorBoard(log_dir = logs,\n",
    "                                                 histogram_freq = 1,\n",
    "                                                 profile_batch = '500,520')"
   ]
  },
  {
   "cell_type": "code",
   "execution_count": 47,
   "metadata": {},
   "outputs": [],
   "source": [
    "def get_model(hp):\n",
    "    model=tf.keras.Sequential()\n",
    "    #Tune number of layers\n",
    "    for i in range(hp.Int(\"num_layers\", 1, 4)):\n",
    "        model.add(\n",
    "            tf.keras.layers.Dense(\n",
    "                # Tune number of units separately.\n",
    "                units=hp.Int(f\"units_{i}\", min_value=16, max_value=240, step=32),\n",
    "                activation=hp.Choice('activation',['elu','relu','tanh'])\n",
    "            )\n",
    "        )\n",
    "        if hp.Boolean(\"dropout\"):\n",
    "            model.add(tf.keras.layers.Dropout(rate=hp.Choice('rate',[0.3,0.4,0.45,0.5])))\n",
    "    hp_learning_rate = hp.Choice('learning_rate', values=[1e-2, 1e-3, 1e-4])\n",
    "    \n",
    "    model.compile(optimizer=tf.keras.optimizers.Adam(learning_rate=hp_learning_rate),\n",
    "                loss='BinaryCrossentropy',\n",
    "                metrics=tfa.metrics.F1Score(num_classes=1, average='micro'))\n",
    "    \n",
    "    return model\n"
   ]
  },
  {
   "cell_type": "code",
   "execution_count": 48,
   "metadata": {},
   "outputs": [
    {
     "name": "stderr",
     "output_type": "stream",
     "text": [
      "2022-03-14 12:49:32.790071: W tensorflow/stream_executor/cuda/cuda_driver.cc:269] failed call to cuInit: UNKNOWN ERROR (303)\n",
      "2022-03-14 12:49:32.790123: I tensorflow/stream_executor/cuda/cuda_diagnostics.cc:156] kernel driver does not appear to be running on this host (pop-os): /proc/driver/nvidia/version does not exist\n",
      "2022-03-14 12:49:32.792719: I tensorflow/core/platform/cpu_feature_guard.cc:151] This TensorFlow binary is optimized with oneAPI Deep Neural Network Library (oneDNN) to use the following CPU instructions in performance-critical operations:  AVX2 FMA\n",
      "To enable them in other operations, rebuild TensorFlow with the appropriate compiler flags.\n"
     ]
    }
   ],
   "source": [
    "tuner = kt.Hyperband(get_model,\n",
    "                     objective=kt.Objective(\"val_f1_score\", direction=\"max\"),\n",
    "                     max_epochs=10,\n",
    "                     factor=3,\n",
    "                     hyperband_iterations=1,\n",
    "                     directory='/home/jordan/Documents/DataSets/Data-Science/Time test',\n",
    "                     project_name='time_test')"
   ]
  },
  {
   "cell_type": "code",
   "execution_count": 49,
   "metadata": {},
   "outputs": [],
   "source": [
    "callback=tf.keras.callbacks.EarlyStopping(monitor='val_loss', patience=3)"
   ]
  },
  {
   "cell_type": "code",
   "execution_count": 51,
   "metadata": {},
   "outputs": [
    {
     "name": "stdout",
     "output_type": "stream",
     "text": [
      "Trial 31 Complete [00h 04m 48s]\n",
      "val_f1_score: 0.11395494639873505\n",
      "\n",
      "Best val_f1_score So Far: 0.7057667374610901\n",
      "Total elapsed time: 01h 11m 53s\n",
      "INFO:tensorflow:Oracle triggered exit\n"
     ]
    }
   ],
   "source": [
    "tuner.search(train, train_label, epochs=50, validation_split=0.2,\n",
    "callbacks= [callback])\n",
    "\n",
    "best_hps=tuner.get_best_hyperparameters(num_trials=1)[0]"
   ]
  },
  {
   "cell_type": "code",
   "execution_count": 52,
   "metadata": {},
   "outputs": [
    {
     "name": "stdout",
     "output_type": "stream",
     "text": [
      "Epoch 1/20\n",
      "17259/17259 [==============================] - 43s 2ms/step - loss: 6.7260 - f1_score: 0.4736 - val_loss: 6.0287 - val_f1_score: 0.6492\n",
      "Epoch 2/20\n",
      "17259/17259 [==============================] - 37s 2ms/step - loss: 6.3353 - f1_score: 0.5839 - val_loss: 6.0969 - val_f1_score: 0.6614\n",
      "Epoch 3/20\n",
      "17259/17259 [==============================] - 37s 2ms/step - loss: 6.1511 - f1_score: 0.5945 - val_loss: 6.5519 - val_f1_score: 0.6354\n",
      "Epoch 4/20\n",
      "17259/17259 [==============================] - 37s 2ms/step - loss: 5.9159 - f1_score: 0.6008 - val_loss: 6.2880 - val_f1_score: 0.6624\n",
      "Epoch 5/20\n",
      "17259/17259 [==============================] - 38s 2ms/step - loss: 5.7463 - f1_score: 0.6187 - val_loss: 6.1273 - val_f1_score: 0.6774\n",
      "Epoch 6/20\n",
      "17259/17259 [==============================] - 39s 2ms/step - loss: 5.6347 - f1_score: 0.6295 - val_loss: 6.6223 - val_f1_score: 0.7002\n",
      "Epoch 7/20\n",
      "17259/17259 [==============================] - 40s 2ms/step - loss: 5.5649 - f1_score: 0.6341 - val_loss: 6.7141 - val_f1_score: 0.6991\n",
      "Epoch 8/20\n",
      "17259/17259 [==============================] - 40s 2ms/step - loss: 5.5152 - f1_score: 0.6417 - val_loss: 6.7622 - val_f1_score: 0.6874\n",
      "Epoch 9/20\n",
      "17259/17259 [==============================] - 41s 2ms/step - loss: 5.4813 - f1_score: 0.6412 - val_loss: 6.5830 - val_f1_score: 0.7331\n",
      "Epoch 10/20\n",
      "17259/17259 [==============================] - 47s 3ms/step - loss: 5.4749 - f1_score: 0.6436 - val_loss: 6.6422 - val_f1_score: 0.7363\n",
      "Epoch 11/20\n",
      "17259/17259 [==============================] - 43s 2ms/step - loss: 5.4442 - f1_score: 0.6440 - val_loss: 6.5296 - val_f1_score: 0.7297\n",
      "Epoch 12/20\n",
      "17259/17259 [==============================] - 42s 2ms/step - loss: 5.4317 - f1_score: 0.6472 - val_loss: 6.6019 - val_f1_score: 0.7384\n",
      "Epoch 13/20\n",
      "17259/17259 [==============================] - 40s 2ms/step - loss: 5.4030 - f1_score: 0.6510 - val_loss: 6.7546 - val_f1_score: 0.7328\n",
      "Epoch 14/20\n",
      "17259/17259 [==============================] - 42s 2ms/step - loss: 5.4009 - f1_score: 0.6505 - val_loss: 6.7841 - val_f1_score: 0.7424\n",
      "Epoch 15/20\n",
      "17259/17259 [==============================] - 32s 2ms/step - loss: 5.3784 - f1_score: 0.6539 - val_loss: 6.4771 - val_f1_score: 0.7580\n",
      "Epoch 16/20\n",
      "17259/17259 [==============================] - 32s 2ms/step - loss: 5.3743 - f1_score: 0.6542 - val_loss: 6.7362 - val_f1_score: 0.7489\n",
      "Epoch 17/20\n",
      "17259/17259 [==============================] - 31s 2ms/step - loss: 5.3611 - f1_score: 0.6540 - val_loss: 7.2249 - val_f1_score: 0.7369\n",
      "Epoch 18/20\n",
      "17259/17259 [==============================] - 31s 2ms/step - loss: 5.3617 - f1_score: 0.6549 - val_loss: 6.7101 - val_f1_score: 0.7577\n",
      "Epoch 19/20\n",
      "17259/17259 [==============================] - 31s 2ms/step - loss: 5.3403 - f1_score: 0.6568 - val_loss: 7.0757 - val_f1_score: 0.7504\n",
      "Epoch 20/20\n",
      "17259/17259 [==============================] - 34s 2ms/step - loss: 5.3304 - f1_score: 0.6581 - val_loss: 7.0114 - val_f1_score: 0.7599\n"
     ]
    }
   ],
   "source": [
    "model = tuner.hypermodel.build(best_hps)\n",
    "history = model.fit(train, train_label, epochs=20, validation_split=0.2)"
   ]
  },
  {
   "cell_type": "code",
   "execution_count": 53,
   "metadata": {},
   "outputs": [
    {
     "name": "stdout",
     "output_type": "stream",
     "text": [
      "Best epoch: 20\n"
     ]
    }
   ],
   "source": [
    "val_acc_per_epoch = history.history[\"val_f1_score\"]\n",
    "best_epoch = val_acc_per_epoch.index(max(val_acc_per_epoch)) + 1\n",
    "print('Best epoch: %d' % (best_epoch,))"
   ]
  },
  {
   "cell_type": "code",
   "execution_count": 54,
   "metadata": {},
   "outputs": [
    {
     "name": "stdout",
     "output_type": "stream",
     "text": [
      "Epoch 1/20\n",
      "17259/17259 [==============================] - 34s 2ms/step - loss: 6.8332 - f1_score: 0.4747 - val_loss: 7.4804 - val_f1_score: 0.5939\n",
      "Epoch 2/20\n",
      "17259/17259 [==============================] - 32s 2ms/step - loss: 6.5350 - f1_score: 0.5714 - val_loss: 6.8271 - val_f1_score: 0.6223\n",
      "Epoch 3/20\n",
      "17259/17259 [==============================] - 32s 2ms/step - loss: 6.2643 - f1_score: 0.5905 - val_loss: 5.9886 - val_f1_score: 0.6678\n",
      "Epoch 4/20\n",
      "17259/17259 [==============================] - 32s 2ms/step - loss: 6.0353 - f1_score: 0.6071 - val_loss: 6.7471 - val_f1_score: 0.6415\n",
      "Epoch 5/20\n",
      "17259/17259 [==============================] - 32s 2ms/step - loss: 5.8515 - f1_score: 0.6140 - val_loss: 6.9451 - val_f1_score: 0.6671\n",
      "Epoch 6/20\n",
      "17259/17259 [==============================] - 32s 2ms/step - loss: 5.7248 - f1_score: 0.6172 - val_loss: 6.5710 - val_f1_score: 0.6861\n",
      "Epoch 7/20\n",
      "17259/17259 [==============================] - 32s 2ms/step - loss: 5.6502 - f1_score: 0.6273 - val_loss: 6.6179 - val_f1_score: 0.6933\n",
      "Epoch 8/20\n",
      "17259/17259 [==============================] - 32s 2ms/step - loss: 5.5813 - f1_score: 0.6353 - val_loss: 6.6712 - val_f1_score: 0.6889\n",
      "Epoch 9/20\n",
      "17259/17259 [==============================] - 32s 2ms/step - loss: 5.5355 - f1_score: 0.6389 - val_loss: 6.6813 - val_f1_score: 0.7256\n",
      "Epoch 10/20\n",
      "17259/17259 [==============================] - 34s 2ms/step - loss: 5.5147 - f1_score: 0.6389 - val_loss: 6.7479 - val_f1_score: 0.7109\n",
      "Epoch 11/20\n",
      "17259/17259 [==============================] - 32s 2ms/step - loss: 5.4782 - f1_score: 0.6429 - val_loss: 6.7642 - val_f1_score: 0.7324\n",
      "Epoch 12/20\n",
      "17259/17259 [==============================] - 32s 2ms/step - loss: 5.4415 - f1_score: 0.6478 - val_loss: 6.6870 - val_f1_score: 0.7435\n",
      "Epoch 13/20\n",
      "17259/17259 [==============================] - 32s 2ms/step - loss: 5.4410 - f1_score: 0.6469 - val_loss: 7.0464 - val_f1_score: 0.7403\n",
      "Epoch 14/20\n",
      "17259/17259 [==============================] - 34s 2ms/step - loss: 5.4106 - f1_score: 0.6496 - val_loss: 7.0745 - val_f1_score: 0.7515\n",
      "Epoch 15/20\n",
      "17259/17259 [==============================] - 32s 2ms/step - loss: 5.3995 - f1_score: 0.6522 - val_loss: 7.1145 - val_f1_score: 0.7546\n",
      "Epoch 16/20\n",
      "17259/17259 [==============================] - 32s 2ms/step - loss: 5.3764 - f1_score: 0.6535 - val_loss: 6.9382 - val_f1_score: 0.7491\n",
      "Epoch 17/20\n",
      "17259/17259 [==============================] - 32s 2ms/step - loss: 5.3616 - f1_score: 0.6551 - val_loss: 6.9261 - val_f1_score: 0.7614\n",
      "Epoch 18/20\n",
      "17259/17259 [==============================] - 32s 2ms/step - loss: 5.3682 - f1_score: 0.6529 - val_loss: 6.7800 - val_f1_score: 0.7584\n",
      "Epoch 19/20\n",
      "17259/17259 [==============================] - 32s 2ms/step - loss: 5.3452 - f1_score: 0.6559 - val_loss: 7.0814 - val_f1_score: 0.7449\n",
      "Epoch 20/20\n",
      "17259/17259 [==============================] - 35s 2ms/step - loss: 5.3620 - f1_score: 0.6528 - val_loss: 6.8643 - val_f1_score: 0.7634\n"
     ]
    },
    {
     "data": {
      "text/plain": [
       "<keras.callbacks.History at 0x7fa64315dbe0>"
      ]
     },
     "execution_count": 54,
     "metadata": {},
     "output_type": "execute_result"
    }
   ],
   "source": [
    "hypermodel = tuner.hypermodel.build(best_hps)\n",
    "\n",
    "#Retrain the model\n",
    "hypermodel.fit(train, train_label, epochs=best_epoch, validation_split=0.2)"
   ]
  },
  {
   "cell_type": "code",
   "execution_count": 55,
   "metadata": {},
   "outputs": [
    {
     "name": "stdout",
     "output_type": "stream",
     "text": [
      "2910/2910 [==============================] - 5s 2ms/step - loss: 5.7134 - f1_score: 0.8552\n",
      "[test loss, test accuracy]: [5.713435173034668, 0.8552290797233582]\n"
     ]
    }
   ],
   "source": [
    "eval_result = hypermodel.evaluate(test, test_label)\n",
    "print(\"[test loss, test accuracy]:\", eval_result)"
   ]
  },
  {
   "cell_type": "code",
   "execution_count": 21,
   "metadata": {},
   "outputs": [],
   "source": [
    "hypermodel.save('tuned_model5.h5')"
   ]
  },
  {
   "cell_type": "code",
   "execution_count": 56,
   "metadata": {},
   "outputs": [
    {
     "name": "stdout",
     "output_type": "stream",
     "text": [
      "Model: \"sequential_2\"\n",
      "_________________________________________________________________\n",
      " Layer (type)                Output Shape              Param #   \n",
      "=================================================================\n",
      " dense_3 (Dense)             (None, 112)               1008      \n",
      "                                                                 \n",
      " dropout_2 (Dropout)         (None, 112)               0         \n",
      "                                                                 \n",
      " dense_4 (Dense)             (None, 112)               12656     \n",
      "                                                                 \n",
      " dropout_3 (Dropout)         (None, 112)               0         \n",
      "                                                                 \n",
      "=================================================================\n",
      "Total params: 13,664\n",
      "Trainable params: 13,664\n",
      "Non-trainable params: 0\n",
      "_________________________________________________________________\n"
     ]
    }
   ],
   "source": [
    "hypermodel.summary()"
   ]
  }
 ],
 "metadata": {
  "interpreter": {
   "hash": "e7370f93d1d0cde622a1f8e1c04877d8463912d04d973331ad4851f04de6915a"
  },
  "kernelspec": {
   "display_name": "Python 3.9.7 64-bit",
   "language": "python",
   "name": "python3"
  },
  "language_info": {
   "codemirror_mode": {
    "name": "ipython",
    "version": 3
   },
   "file_extension": ".py",
   "mimetype": "text/x-python",
   "name": "python",
   "nbconvert_exporter": "python",
   "pygments_lexer": "ipython3",
   "version": "3.9.7"
  },
  "orig_nbformat": 4
 },
 "nbformat": 4,
 "nbformat_minor": 2
}
