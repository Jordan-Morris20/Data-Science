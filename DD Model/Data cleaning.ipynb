{
 "cells": [
  {
   "cell_type": "code",
   "execution_count": 1,
   "metadata": {},
   "outputs": [],
   "source": [
    "import pandas as pd\n",
    "import numpy as np\n",
    "import os\n",
    "import glob"
   ]
  },
  {
   "cell_type": "code",
   "execution_count": 21,
   "metadata": {},
   "outputs": [],
   "source": [
    "a= ['/home/jordan/Documents/DataSets/DimensionData/0_02.csv','/home/jordan/Documents/DataSets/DimensionData/3_01.csv','/home/jordan/Documents/DataSets/DimensionData/30_01.csv', \n",
    "'/home/jordan/Documents/DataSets/DimensionData/3_0.csv', '/home/jordan/Documents/DataSets/DimensionData/4_01.csv', '/home/jordan/Documents/DataSets/DimensionData/15_01.csv',\n",
    " '/home/jordan/Documents/DataSets/DimensionData/16_01.csv', '/home/jordan/Documents/DataSets/DimensionData/17_01.csv','/home/jordan/Documents/DataSets/DimensionData/18_01.csv']"
   ]
  },
  {
   "cell_type": "code",
   "execution_count": 22,
   "metadata": {},
   "outputs": [],
   "source": [
    "b= ['/home/jordan/Documents/DataSets/DimensionData/14_01.csv', \n",
    "'/home/jordan/Documents/DataSets/DimensionData/15_01.csv', \n",
    "'/home/jordan/Documents/DataSets/DimensionData/16_01.csv', \n",
    "'/home/jordan/Documents/DataSets/DimensionData/17_01.csv', \n",
    "'/home/jordan/Documents/DataSets/DimensionData/18_01.csv', \n",
    "'/home/jordan/Documents/DataSets/DimensionData/19_01.csv', \n",
    "'/home/jordan/Documents/DataSets/DimensionData/20_01.csv', \n",
    "'/home/jordan/Documents/DataSets/DimensionData/21_01.csv', \n",
    "'/home/jordan/Documents/DataSets/DimensionData/22_01.csv', \n",
    "'/home/jordan/Documents/DataSets/DimensionData/23_01.csv', \n",
    "'/home/jordan/Documents/DataSets/DimensionData/24_01.csv', \n",
    "'/home/jordan/Documents/DataSets/DimensionData/25_01.csv', \n",
    "'/home/jordan/Documents/DataSets/DimensionData/26_01.csv', \n",
    "'/home/jordan/Documents/DataSets/DimensionData/27_01.csv', \n",
    "'/home/jordan/Documents/DataSets/DimensionData/28_01.csv', \n",
    "'/home/jordan/Documents/DataSets/DimensionData/29_01.csv', \n",
    "'/home/jordan/Documents/DataSets/DimensionData/30_01.csv', \n",
    "'/home/jordan/Documents/DataSets/DimensionData/31_01.csv', \n",
    "'/home/jordan/Documents/DataSets/DimensionData/01_02.csv']"
   ]
  },
  {
   "cell_type": "code",
   "execution_count": 23,
   "metadata": {},
   "outputs": [],
   "source": [
    "c= ['/home/jordan/Documents/DataSets/DimensionData/15_01.csv', \n",
    "'/home/jordan/Documents/DataSets/DimensionData/16_01.csv', \n",
    "'/home/jordan/Documents/DataSets/DimensionData/17_01.csv', \n",
    "'/home/jordan/Documents/DataSets/DimensionData/18_01.csv', \n",
    "'/home/jordan/Documents/DataSets/DimensionData/19_01.csv', \n",
    "'/home/jordan/Documents/DataSets/DimensionData/20_01.csv', \n",
    "'/home/jordan/Documents/DataSets/DimensionData/21_01.csv', \n",
    "'/home/jordan/Documents/DataSets/DimensionData/22_01.csv', \n",
    "'/home/jordan/Documents/DataSets/DimensionData/23_01.csv', \n",
    "'/home/jordan/Documents/DataSets/DimensionData/24_01.csv', \n",
    "'/home/jordan/Documents/DataSets/DimensionData/25_01.csv', \n",
    "'/home/jordan/Documents/DataSets/DimensionData/26_01.csv', \n",
    "'/home/jordan/Documents/DataSets/DimensionData/27_01.csv', \n",
    "'/home/jordan/Documents/DataSets/DimensionData/28_01.csv', \n",
    "'/home/jordan/Documents/DataSets/DimensionData/29_01.csv', \n",
    "'/home/jordan/Documents/DataSets/DimensionData/30_01.csv', \n",
    "'/home/jordan/Documents/DataSets/DimensionData/31_01.csv', \n",
    "'/home/jordan/Documents/DataSets/DimensionData/01_02.csv']"
   ]
  },
  {
   "cell_type": "code",
   "execution_count": 2,
   "metadata": {},
   "outputs": [],
   "source": [
    "files=['/home/jordan/Downloads/18_01.csv','/home/jordan/Downloads/18_02.csv','/home/jordan/Downloads/18_03.csv']\n",
    "#files=glob.glob(files)"
   ]
  },
  {
   "cell_type": "code",
   "execution_count": 3,
   "metadata": {},
   "outputs": [],
   "source": [
    "for i in files:\n",
    "    with open(i, 'r') as fin:\n",
    "        data = fin.read().splitlines(True)\n",
    "    with open(i, 'w') as fout:\n",
    "        fout.writelines(data[1:])"
   ]
  }
 ],
 "metadata": {
  "interpreter": {
   "hash": "e7370f93d1d0cde622a1f8e1c04877d8463912d04d973331ad4851f04de6915a"
  },
  "kernelspec": {
   "display_name": "Python 3.9.7 64-bit",
   "language": "python",
   "name": "python3"
  },
  "language_info": {
   "codemirror_mode": {
    "name": "ipython",
    "version": 3
   },
   "file_extension": ".py",
   "mimetype": "text/x-python",
   "name": "python",
   "nbconvert_exporter": "python",
   "pygments_lexer": "ipython3",
   "version": "3.9.7"
  },
  "orig_nbformat": 4
 },
 "nbformat": 4,
 "nbformat_minor": 2
}
